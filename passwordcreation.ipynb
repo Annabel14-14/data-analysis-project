{
 "cells": [
  {
   "cell_type": "code",
   "execution_count": null,
   "id": "9d94152d",
   "metadata": {},
   "outputs": [],
   "source": [
    "def passwordd(password):\n",
    "    #password=\"Ebele\"\n",
    "    for i in range(3):\n",
    "        j=3\n",
    "        pwd=input(\"Enter a password: \")\n",
    "        if pwd==password:\n",
    "            print(\"Welcome!\")\n",
    "            break\n",
    "        elif pwd!=password:\n",
    "            print(\"Incorrect\")\n",
    "        else:\n",
    "            print(\"Try again\")\n",
    "            continue\n",
    "            \n",
    "password=\"$mercy14\"\n",
    "passwordd(password)\n"
   ]
  },
  {
   "cell_type": "code",
   "execution_count": null,
   "id": "88c3251d",
   "metadata": {},
   "outputs": [],
   "source": []
  }
 ],
 "metadata": {
  "kernelspec": {
   "display_name": "Python 3 (ipykernel)",
   "language": "python",
   "name": "python3"
  },
  "language_info": {
   "codemirror_mode": {
    "name": "ipython",
    "version": 3
   },
   "file_extension": ".py",
   "mimetype": "text/x-python",
   "name": "python",
   "nbconvert_exporter": "python",
   "pygments_lexer": "ipython3",
   "version": "3.9.12"
  }
 },
 "nbformat": 4,
 "nbformat_minor": 5
}
